{
  "nbformat": 4,
  "nbformat_minor": 0,
  "metadata": {
    "colab": {
      "provenance": [],
      "authorship_tag": "ABX9TyOMH8e0yfet2dtbZzw66Czj",
      "include_colab_link": true
    },
    "kernelspec": {
      "name": "python3",
      "display_name": "Python 3"
    },
    "language_info": {
      "name": "python"
    }
  },
  "cells": [
    {
      "cell_type": "markdown",
      "metadata": {
        "id": "view-in-github",
        "colab_type": "text"
      },
      "source": [
        "<a href=\"https://colab.research.google.com/github/Sowmya-726/Trade-Sentiment-Analysis/blob/main/trade_sentiment.ipynb\" target=\"_parent\"><img src=\"https://colab.research.google.com/assets/colab-badge.svg\" alt=\"Open In Colab\"/></a>"
      ]
    },
    {
      "cell_type": "code",
      "source": [
        "from google.colab import files\n",
        "files.upload()"
      ],
      "metadata": {
        "collapsed": true,
        "id": "aLOSDoQpPvzI"
      },
      "execution_count": null,
      "outputs": []
    },
    {
      "cell_type": "code",
      "execution_count": null,
      "metadata": {
        "id": "rsSPLCNoPLi0"
      },
      "outputs": [],
      "source": [
        "import os\n",
        "os.listdir()\n"
      ]
    },
    {
      "cell_type": "markdown",
      "source": [
        "load the data"
      ],
      "metadata": {
        "id": "px9a-XLVQ-g-"
      }
    },
    {
      "cell_type": "code",
      "source": [
        "import pandas as pd\n",
        "\n",
        "trade_df = pd.read_csv('historical_data.csv')\n",
        "sentiment_df = pd.read_csv('fear_greed_index.csv')\n",
        "\n",
        "print(trade_df.head())\n",
        "\n",
        "print(sentiment_df.head())"
      ],
      "metadata": {
        "id": "7Eus1D8BRBB0"
      },
      "execution_count": null,
      "outputs": []
    },
    {
      "cell_type": "markdown",
      "source": [
        "checking data structure\n"
      ],
      "metadata": {
        "id": "EFaXeav9TNj4"
      }
    },
    {
      "cell_type": "code",
      "source": [
        "# Trade\n",
        "print(\"🔹 Trader Data Info:\")\n",
        "trade_df.info()\n",
        "print(\"\\n🔹 Null Values in Trade Data:\")\n",
        "print(trade_df.isnull().sum())\n",
        "\n",
        "# Sentiment\n",
        "print(\"\\n🔹 Sentiment Data Info:\")\n",
        "sentiment_df.info()\n",
        "print(\"\\n🔹 Null Values in Sentiment Data:\")\n",
        "print(sentiment_df.isnull().sum())\n",
        "\n"
      ],
      "metadata": {
        "id": "K_Fg95EsTHc9"
      },
      "execution_count": null,
      "outputs": []
    },
    {
      "cell_type": "code",
      "source": [
        "import pandas as pd\n",
        "\n",
        "# 1. Converting 'Timestamp IST' in trade data to datetime\n",
        "trade_df['Timestamp IST'] = pd.to_datetime(trade_df['Timestamp IST'], errors='coerce')\n",
        "trade_df['date_only'] = trade_df['Timestamp IST'].dt.date\n",
        "\n",
        "# 2. Convert 'date' in sentiment data to datetime and extract date\n",
        "sentiment_df['date'] = pd.to_datetime(sentiment_df['date'], errors='coerce')\n",
        "sentiment_df['date_only'] = sentiment_df['date'].dt.date\n",
        "\n",
        "# 3. Merge the datasets on the date column\n",
        "merged_df = pd.merge(trade_df, sentiment_df, on='date_only', how='inner')\n",
        "\n",
        "# 4. Preview the merged data\n",
        "display(merged_df.head())"
      ],
      "metadata": {
        "id": "_BFnpdgpUB5T"
      },
      "execution_count": null,
      "outputs": []
    },
    {
      "cell_type": "code",
      "source": [
        "print(\"historical\",trade_df.shape)\n",
        "print(\"sentiment\",sentiment_df.shape)"
      ],
      "metadata": {
        "id": "1bgvkMXWUfZv"
      },
      "execution_count": null,
      "outputs": []
    },
    {
      "cell_type": "code",
      "source": [
        "merged_df.info()"
      ],
      "metadata": {
        "id": "EIpVqUSAXAaR"
      },
      "execution_count": null,
      "outputs": []
    },
    {
      "cell_type": "code",
      "source": [
        "import seaborn as sns\n",
        "import matplotlib.pyplot as plt\n",
        "\n",
        "plt.figure(figsize=(10, 6))\n",
        "sns.heatmap(merged_df.isnull(), cbar=False, cmap='viridis')\n",
        "plt.title(\"Missing Data Heatmap\")\n",
        "plt.show()"
      ],
      "metadata": {
        "id": "9HyiVdiFVwh9"
      },
      "execution_count": null,
      "outputs": []
    },
    {
      "cell_type": "code",
      "source": [
        "merged_df.describe()"
      ],
      "metadata": {
        "id": "kmh5oKOkXVLD"
      },
      "execution_count": null,
      "outputs": []
    },
    {
      "cell_type": "code",
      "source": [
        "merged_df['classification'].value_counts()"
      ],
      "metadata": {
        "id": "x3_RrbEvfkLD"
      },
      "execution_count": null,
      "outputs": []
    },
    {
      "cell_type": "code",
      "source": [
        "merged_df.groupby(\"classification\")['Closed PnL'].mean().sort_values()\n"
      ],
      "metadata": {
        "id": "n_ofJ8yTf-bE"
      },
      "execution_count": null,
      "outputs": []
    },
    {
      "cell_type": "code",
      "source": [
        "merged_df['is_profitable'] = merged_df['Closed PnL'] > 0\n",
        "win_rates = merged_df.groupby('classification')['is_profitable'].mean() * 100\n",
        "print(win_rates)\n"
      ],
      "metadata": {
        "id": "HmZCg-ScgZaN"
      },
      "execution_count": null,
      "outputs": []
    },
    {
      "cell_type": "code",
      "source": [
        "sns.boxplot(data=merged_df, x='classification', y='Closed PnL')\n",
        "plt.title(\"Closed PnL by Sentiment\")\n",
        "plt.xticks(rotation=45)\n",
        "plt.show()"
      ],
      "metadata": {
        "id": "bSEyWZnSglP1"
      },
      "execution_count": null,
      "outputs": []
    },
    {
      "cell_type": "code",
      "source": [
        "merged_df['is_profitable'] = merged_df['Closed PnL'] > 0\n"
      ],
      "metadata": {
        "id": "cZvUBoWEhdGm"
      },
      "execution_count": null,
      "outputs": []
    },
    {
      "cell_type": "code",
      "source": [
        "summary = merged_df.groupby('classification').agg(\n",
        "    avg_profit = ('Closed PnL', 'mean'),\n",
        "    median_profit = ('Closed PnL', 'median'),\n",
        "    profit_std = ('Closed PnL', 'std'),\n",
        "    min_profit = ('Closed PnL', 'min'),\n",
        "    max_profit = ('Closed PnL', 'max'),\n",
        "    avg_trade_size = ('Size USD', 'mean'),\n",
        "    median_trade_size = ('Size USD', 'median'),\n",
        "    win_rate = ('is_profitable', 'mean')\n",
        ").reset_index()\n",
        "\n",
        "summary['win_rate'] = summary['win_rate'] * 100\n",
        "summary = summary.round(2)\n",
        "print(summary)\n",
        "\n"
      ],
      "metadata": {
        "id": "74ezh6R3h2fu"
      },
      "execution_count": null,
      "outputs": []
    },
    {
      "cell_type": "code",
      "source": [
        "plt.figure(figsize=(8,5))\n",
        "sns.barplot(data=summary, x='classification', y='avg_profit', order=summary['classification'])\n",
        "plt.title('Average Profit/Loss by Market Sentiment')\n",
        "plt.ylabel('Average Closed PnL')\n",
        "plt.xticks(rotation=45)\n",
        "plt.show()\n"
      ],
      "metadata": {
        "id": "uUx4ztAtipID"
      },
      "execution_count": null,
      "outputs": []
    },
    {
      "cell_type": "code",
      "source": [
        "plt.figure(figsize=(8,5))\n",
        "sns.barplot(data=summary, x='classification', y='win_rate', order=summary['classification'])\n",
        "plt.title('Win Rate (%) by Market Sentiment')\n",
        "plt.ylabel('Win Rate (%)')\n",
        "plt.xticks(rotation=45)\n",
        "plt.show()\n"
      ],
      "metadata": {
        "id": "kPxn5c1BitcY"
      },
      "execution_count": null,
      "outputs": []
    },
    {
      "cell_type": "code",
      "source": [
        "plt.figure(figsize=(10,6))\n",
        "sns.countplot(data=merged_df, x='Side', hue='classification')\n",
        "plt.title('Buy vs Sell Trade Counts by Market Sentiment')\n",
        "plt.show()\n"
      ],
      "metadata": {
        "id": "0H2cjGvqiy-3"
      },
      "execution_count": null,
      "outputs": []
    },
    {
      "cell_type": "code",
      "source": [
        "plt.figure(figsize=(12,6))\n",
        "sns.histplot(data=merged_df, x='Closed PnL', hue='classification', bins=60, kde=True, element='step')\n",
        "plt.title('Profit/Loss Distribution by Market Sentiment')\n",
        "plt.show()\n"
      ],
      "metadata": {
        "id": "A2x903YHi4xV"
      },
      "execution_count": null,
      "outputs": []
    },
    {
      "cell_type": "code",
      "source": [
        "plt.figure(figsize=(8,6))\n",
        "sns.scatterplot(data=merged_df, x='Size USD', y='Closed PnL', hue='classification', alpha=0.6)\n",
        "plt.title('Trade Size vs Profit by Sentiment')\n",
        "plt.show()\n"
      ],
      "metadata": {
        "id": "FLKKz13si-o6"
      },
      "execution_count": null,
      "outputs": []
    },
    {
      "cell_type": "code",
      "source": [
        "trade_counts = merged_df['classification'].value_counts()\n",
        "print(\"Number of trades per sentiment:\")\n",
        "print(trade_counts)\n"
      ],
      "metadata": {
        "id": "p7FLAefmjFZT"
      },
      "execution_count": null,
      "outputs": []
    },
    {
      "cell_type": "code",
      "source": [
        "print(\"Win rate (% profitable trades) by sentiment:\")\n",
        "print(summary[['classification', 'win_rate']])"
      ],
      "metadata": {
        "id": "KPIPcDr1jJSO"
      },
      "execution_count": null,
      "outputs": []
    }
  ]
}